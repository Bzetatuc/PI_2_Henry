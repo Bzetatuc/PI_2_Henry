{
 "cells": [
  {
   "cell_type": "code",
   "execution_count": 4,
   "metadata": {},
   "outputs": [],
   "source": [
    "import pandas as pd\n",
    "import matplotlib.pyplot as plt\n",
    "import seaborn as sns\n",
    "import plotly\n",
    "from plotly import __version__\n",
    "from plotly.offline import download_plotlyjs, init_notebook_mode, plot, iplot\n",
    "from pycoingecko import CoinGeckoAPI\n",
    "import requests\n"
   ]
  },
  {
   "cell_type": "code",
   "execution_count": 19,
   "metadata": {},
   "outputs": [
    {
     "name": "stdout",
     "output_type": "stream",
     "text": [
      "            id symbol      name  current_price    market_cap  market_cap_rank\n",
      "0      bitcoin    btc   Bitcoin   28626.000000  557054772600                1\n",
      "1     ethereum    eth  Ethereum    1796.860000  215883157683                2\n",
      "2       tether   usdt    Tether       0.998901   82949712323                3\n",
      "3  binancecoin    bnb       BNB     230.810000   35514397374                4\n",
      "4       ripple    xrp       XRP       0.591271   31227480055                5\n"
     ]
    }
   ],
   "source": [
    "\n",
    "\n",
    "# Setting aesthetics for plotting\n",
    "plt.style.use('fivethirtyeight')\n",
    "\n",
    "def get_current_data():\n",
    "    # URL for CoinGecko API to get current data for all cryptocurrencies\n",
    "    url = \"https://api.coingecko.com/api/v3/coins/markets\"\n",
    "    \n",
    "    # Parameters for the API request\n",
    "    params = {\n",
    "        'vs_currency': 'usd',  # Convert prices to USD\n",
    "        'order': 'market_cap_desc',  # Order by market capitalization in descending order\n",
    "        'per_page': 10  # Number of cryptocurrencies to retrieve\n",
    "    }\n",
    "    \n",
    "    # Send GET request to the API\n",
    "    response = requests.get(url, params=params)\n",
    "    data = response.json()\n",
    "    \n",
    "    # Create a DataFrame from the response data\n",
    "    current_data = pd.DataFrame(data, columns=['id', 'symbol', 'name', 'current_price', 'market_cap', 'market_cap_rank'])\n",
    "    \n",
    "    return current_data\n",
    "\n",
    "# Get current data\n",
    "current = get_current_data()\n",
    "\n",
    "# Printing out the first few lines\n",
    "print(current.head())"
   ]
  },
  {
   "cell_type": "code",
   "execution_count": 20,
   "metadata": {},
   "outputs": [
    {
     "data": {
      "text/html": [
       "<div>\n",
       "<style scoped>\n",
       "    .dataframe tbody tr th:only-of-type {\n",
       "        vertical-align: middle;\n",
       "    }\n",
       "\n",
       "    .dataframe tbody tr th {\n",
       "        vertical-align: top;\n",
       "    }\n",
       "\n",
       "    .dataframe thead th {\n",
       "        text-align: right;\n",
       "    }\n",
       "</style>\n",
       "<table border=\"1\" class=\"dataframe\">\n",
       "  <thead>\n",
       "    <tr style=\"text-align: right;\">\n",
       "      <th></th>\n",
       "      <th>id</th>\n",
       "      <th>symbol</th>\n",
       "      <th>name</th>\n",
       "      <th>current_price</th>\n",
       "      <th>market_cap</th>\n",
       "      <th>market_cap_rank</th>\n",
       "    </tr>\n",
       "  </thead>\n",
       "  <tbody>\n",
       "    <tr>\n",
       "      <th>0</th>\n",
       "      <td>bitcoin</td>\n",
       "      <td>btc</td>\n",
       "      <td>Bitcoin</td>\n",
       "      <td>28626.000000</td>\n",
       "      <td>557054772600</td>\n",
       "      <td>1</td>\n",
       "    </tr>\n",
       "    <tr>\n",
       "      <th>1</th>\n",
       "      <td>ethereum</td>\n",
       "      <td>eth</td>\n",
       "      <td>Ethereum</td>\n",
       "      <td>1796.860000</td>\n",
       "      <td>215883157683</td>\n",
       "      <td>2</td>\n",
       "    </tr>\n",
       "    <tr>\n",
       "      <th>2</th>\n",
       "      <td>tether</td>\n",
       "      <td>usdt</td>\n",
       "      <td>Tether</td>\n",
       "      <td>0.998901</td>\n",
       "      <td>82949712323</td>\n",
       "      <td>3</td>\n",
       "    </tr>\n",
       "    <tr>\n",
       "      <th>3</th>\n",
       "      <td>binancecoin</td>\n",
       "      <td>bnb</td>\n",
       "      <td>BNB</td>\n",
       "      <td>230.810000</td>\n",
       "      <td>35514397374</td>\n",
       "      <td>4</td>\n",
       "    </tr>\n",
       "    <tr>\n",
       "      <th>4</th>\n",
       "      <td>ripple</td>\n",
       "      <td>xrp</td>\n",
       "      <td>XRP</td>\n",
       "      <td>0.591271</td>\n",
       "      <td>31227480055</td>\n",
       "      <td>5</td>\n",
       "    </tr>\n",
       "    <tr>\n",
       "      <th>5</th>\n",
       "      <td>usd-coin</td>\n",
       "      <td>usdc</td>\n",
       "      <td>USD Coin</td>\n",
       "      <td>1.000000</td>\n",
       "      <td>26071313257</td>\n",
       "      <td>6</td>\n",
       "    </tr>\n",
       "    <tr>\n",
       "      <th>6</th>\n",
       "      <td>staked-ether</td>\n",
       "      <td>steth</td>\n",
       "      <td>Lido Staked Ether</td>\n",
       "      <td>1794.770000</td>\n",
       "      <td>14631793980</td>\n",
       "      <td>7</td>\n",
       "    </tr>\n",
       "    <tr>\n",
       "      <th>7</th>\n",
       "      <td>cardano</td>\n",
       "      <td>ada</td>\n",
       "      <td>Cardano</td>\n",
       "      <td>0.276925</td>\n",
       "      <td>9688024345</td>\n",
       "      <td>8</td>\n",
       "    </tr>\n",
       "    <tr>\n",
       "      <th>8</th>\n",
       "      <td>dogecoin</td>\n",
       "      <td>doge</td>\n",
       "      <td>Dogecoin</td>\n",
       "      <td>0.068110</td>\n",
       "      <td>9567165714</td>\n",
       "      <td>9</td>\n",
       "    </tr>\n",
       "    <tr>\n",
       "      <th>9</th>\n",
       "      <td>solana</td>\n",
       "      <td>sol</td>\n",
       "      <td>Solana</td>\n",
       "      <td>23.270000</td>\n",
       "      <td>9477632651</td>\n",
       "      <td>10</td>\n",
       "    </tr>\n",
       "  </tbody>\n",
       "</table>\n",
       "</div>"
      ],
      "text/plain": [
       "             id symbol               name  current_price    market_cap  \\\n",
       "0       bitcoin    btc            Bitcoin   28626.000000  557054772600   \n",
       "1      ethereum    eth           Ethereum    1796.860000  215883157683   \n",
       "2        tether   usdt             Tether       0.998901   82949712323   \n",
       "3   binancecoin    bnb                BNB     230.810000   35514397374   \n",
       "4        ripple    xrp                XRP       0.591271   31227480055   \n",
       "5      usd-coin   usdc           USD Coin       1.000000   26071313257   \n",
       "6  staked-ether  steth  Lido Staked Ether    1794.770000   14631793980   \n",
       "7       cardano    ada            Cardano       0.276925    9688024345   \n",
       "8      dogecoin   doge           Dogecoin       0.068110    9567165714   \n",
       "9        solana    sol             Solana      23.270000    9477632651   \n",
       "\n",
       "   market_cap_rank  \n",
       "0                1  \n",
       "1                2  \n",
       "2                3  \n",
       "3                4  \n",
       "4                5  \n",
       "5                6  \n",
       "6                7  \n",
       "7                8  \n",
       "8                9  \n",
       "9               10  "
      ]
     },
     "execution_count": 20,
     "metadata": {},
     "output_type": "execute_result"
    }
   ],
   "source": [
    "current"
   ]
  },
  {
   "cell_type": "code",
   "execution_count": 23,
   "metadata": {},
   "outputs": [
    {
     "data": {
      "image/png": "[encoded data removed]",
      "text/plain": [
       "<Figure size 640x480 with 1 Axes>"
      ]
     },
     "metadata": {},
     "output_type": "display_data"
    }
   ],
   "source": [
    "# Declare constants for later use\n",
    "TOP_CAP_TITLE = 'Top 10 market capitalization'\n",
    "TOP_CAP_YLABEL = '% of total cap'\n",
    "\n",
    "# Select the top 10 cryptocurrencies by market cap and calculate market_cap_perc\n",
    "cap10 = current.sort_values('market_cap', ascending=False).set_index('id').head(10)\n",
    "total_market_cap = cap10['market_cap'].sum()\n",
    "cap10['market_cap_perc'] = cap10['market_cap'] / total_market_cap * 100\n",
    "\n",
    "# Define colors for the bars\n",
    "colors = ['#1f77b4', '#ff7f0e', '#2ca02c', '#d62728', '#9467bd',\n",
    "          '#8c564b', '#e377c2', '#7f7f7f', '#bcbd22', '#17becf']\n",
    "\n",
    "# Plotting the barplot with custom colors\n",
    "ax = cap10['market_cap_perc'].plot.bar(title=TOP_CAP_TITLE, color=colors)\n",
    "\n",
    "# Annotating the y axis\n",
    "ax.set_ylabel(TOP_CAP_YLABEL)\n",
    "\n",
    "# Display the plot\n",
    "plt.show()\n",
    "\n",
    "\n",
    "\n"
   ]
  },
  {
   "cell_type": "code",
   "execution_count": 26,
   "metadata": {},
   "outputs": [
    {
     "name": "stdout",
     "output_type": "stream",
     "text": [
      "          percent_change_24h\n",
      "id                          \n",
      "cardano           -99.984570\n",
      "tether            -99.944409\n",
      "ripple            -99.743828\n",
      "ethereum          -93.722979\n",
      "dogecoin          -75.404893\n"
     ]
    }
   ],
   "source": [
    "# Selecting the id and percent_change_24h columns\n",
    "volatility = current.loc[:, ['id', 'percent_change_24h']]\n",
    "\n",
    "# Setting the index to 'id' and dropping all NaN rows\n",
    "volatility = volatility.set_index('id').dropna()\n",
    "\n",
    "# Sorting the DataFrame by percent_change_24h in ascending order\n",
    "volatility = volatility.sort_values('percent_change_24h', ascending=True)\n",
    "\n",
    "# Display the first few rows\n",
    "print(volatility.head())\n",
    "\n"
   ]
  },
  {
   "cell_type": "code",
   "execution_count": 29,
   "metadata": {},
   "outputs": [
    {
     "data": {
      "text/plain": [
       "Index(['percent_change_24h'], dtype='object')"
      ]
     },
     "execution_count": 29,
     "metadata": {},
     "output_type": "execute_result"
    }
   ],
   "source": [
    "volatility.columns"
   ]
  }
 ],
 "metadata": {
  "kernelspec": {
   "display_name": "Python 3",
   "language": "python",
   "name": "python3"
  },
  "language_info": {
   "codemirror_mode": {
    "name": "ipython",
    "version": 3
   },
   "file_extension": ".py",
   "mimetype": "text/x-python",
   "name": "python",
   "nbconvert_exporter": "python",
   "pygments_lexer": "ipython3",
   "version": "3.10.5"
  },
  "orig_nbformat": 4
 },
 "nbformat": 4,
 "nbformat_minor": 2
}
